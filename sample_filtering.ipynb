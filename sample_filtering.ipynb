{
 "cells": [
  {
   "cell_type": "code",
   "execution_count": 13,
   "id": "b27422bc-8f0e-4d10-ac9f-075f237ac0de",
   "metadata": {},
   "outputs": [],
   "source": [
    "import pandas as pd\n",
    "import numpy as np\n",
    "import matplotlib.pyplot as plt\n",
    "import seaborn as sns"
   ]
  },
  {
   "cell_type": "code",
   "execution_count": 14,
   "id": "4029b433-9387-4f2e-9e99-fc983893ef72",
   "metadata": {},
   "outputs": [
    {
     "data": {
      "text/html": [
       "<div>\n",
       "<style scoped>\n",
       "    .dataframe tbody tr th:only-of-type {\n",
       "        vertical-align: middle;\n",
       "    }\n",
       "\n",
       "    .dataframe tbody tr th {\n",
       "        vertical-align: top;\n",
       "    }\n",
       "\n",
       "    .dataframe thead th {\n",
       "        text-align: right;\n",
       "    }\n",
       "</style>\n",
       "<table border=\"1\" class=\"dataframe\">\n",
       "  <thead>\n",
       "    <tr style=\"text-align: right;\">\n",
       "      <th></th>\n",
       "      <th>Unnamed: 0</th>\n",
       "      <th>id.location_olc_c</th>\n",
       "      <th>id.layer_uuid_c</th>\n",
       "      <th>observation.ogc.schema.title_ogc_txt</th>\n",
       "      <th>observation.ogc.schema_idn_url</th>\n",
       "      <th>observation.date.begin_iso.8601_yyyy.mm.dd</th>\n",
       "      <th>observation.date.end_iso.8601_yyyy.mm.dd</th>\n",
       "      <th>location.address_utf8_txt</th>\n",
       "      <th>location.country_iso.3166_c</th>\n",
       "      <th>location.method_any_c</th>\n",
       "      <th>...</th>\n",
       "      <th>scan_mir.3982_abs</th>\n",
       "      <th>scan_mir.3984_abs</th>\n",
       "      <th>scan_mir.3986_abs</th>\n",
       "      <th>scan_mir.3988_abs</th>\n",
       "      <th>scan_mir.3990_abs</th>\n",
       "      <th>scan_mir.3992_abs</th>\n",
       "      <th>scan_mir.3994_abs</th>\n",
       "      <th>scan_mir.3996_abs</th>\n",
       "      <th>scan_mir.3998_abs</th>\n",
       "      <th>scan_mir.4000_abs</th>\n",
       "    </tr>\n",
       "  </thead>\n",
       "  <tbody>\n",
       "    <tr>\n",
       "      <th>0</th>\n",
       "      <td>0</td>\n",
       "      <td>854MFJ9X+V8</td>\n",
       "      <td>7461ec5822f31c1071c09bb5ad293bb4</td>\n",
       "      <td>Open Soil Spectroscopy Library</td>\n",
       "      <td>https://soilspectroscopy.github.io</td>\n",
       "      <td>13477</td>\n",
       "      <td>13477</td>\n",
       "      <td>White Sands</td>\n",
       "      <td>USA</td>\n",
       "      <td>GPS</td>\n",
       "      <td>...</td>\n",
       "      <td>257.0</td>\n",
       "      <td>257.0</td>\n",
       "      <td>257.0</td>\n",
       "      <td>257.0</td>\n",
       "      <td>257.0</td>\n",
       "      <td>257.0</td>\n",
       "      <td>257.0</td>\n",
       "      <td>257.0</td>\n",
       "      <td>257.0</td>\n",
       "      <td>257.0</td>\n",
       "    </tr>\n",
       "    <tr>\n",
       "      <th>1</th>\n",
       "      <td>1</td>\n",
       "      <td>854MFJ9X+V8</td>\n",
       "      <td>696da8718f4b20ac408558e7dfd9f7ee</td>\n",
       "      <td>Open Soil Spectroscopy Library</td>\n",
       "      <td>https://soilspectroscopy.github.io</td>\n",
       "      <td>13477</td>\n",
       "      <td>13477</td>\n",
       "      <td>White Sands</td>\n",
       "      <td>USA</td>\n",
       "      <td>GPS</td>\n",
       "      <td>...</td>\n",
       "      <td>333.0</td>\n",
       "      <td>334.0</td>\n",
       "      <td>334.0</td>\n",
       "      <td>334.0</td>\n",
       "      <td>335.0</td>\n",
       "      <td>335.0</td>\n",
       "      <td>336.0</td>\n",
       "      <td>336.0</td>\n",
       "      <td>336.0</td>\n",
       "      <td>337.0</td>\n",
       "    </tr>\n",
       "    <tr>\n",
       "      <th>2</th>\n",
       "      <td>2</td>\n",
       "      <td>854MFJ9X+V8</td>\n",
       "      <td>d28bab21a85b3f51bb54f9f78c9b01ed</td>\n",
       "      <td>Open Soil Spectroscopy Library</td>\n",
       "      <td>https://soilspectroscopy.github.io</td>\n",
       "      <td>13477</td>\n",
       "      <td>13477</td>\n",
       "      <td>White Sands</td>\n",
       "      <td>USA</td>\n",
       "      <td>GPS</td>\n",
       "      <td>...</td>\n",
       "      <td>241.0</td>\n",
       "      <td>241.0</td>\n",
       "      <td>241.0</td>\n",
       "      <td>241.0</td>\n",
       "      <td>240.0</td>\n",
       "      <td>240.0</td>\n",
       "      <td>240.0</td>\n",
       "      <td>240.0</td>\n",
       "      <td>240.0</td>\n",
       "      <td>240.0</td>\n",
       "    </tr>\n",
       "    <tr>\n",
       "      <th>3</th>\n",
       "      <td>3</td>\n",
       "      <td>854MFJ9X+V8</td>\n",
       "      <td>61b28560becdc2c79efd872fdbf12d03</td>\n",
       "      <td>Open Soil Spectroscopy Library</td>\n",
       "      <td>https://soilspectroscopy.github.io</td>\n",
       "      <td>13477</td>\n",
       "      <td>13477</td>\n",
       "      <td>White Sands</td>\n",
       "      <td>USA</td>\n",
       "      <td>GPS</td>\n",
       "      <td>...</td>\n",
       "      <td>165.0</td>\n",
       "      <td>165.0</td>\n",
       "      <td>164.0</td>\n",
       "      <td>164.0</td>\n",
       "      <td>163.0</td>\n",
       "      <td>162.0</td>\n",
       "      <td>162.0</td>\n",
       "      <td>161.0</td>\n",
       "      <td>160.0</td>\n",
       "      <td>160.0</td>\n",
       "    </tr>\n",
       "    <tr>\n",
       "      <th>4</th>\n",
       "      <td>4</td>\n",
       "      <td>854MFJ9X+V8</td>\n",
       "      <td>a0946d7385a92c63af1fba1f83cb2238</td>\n",
       "      <td>Open Soil Spectroscopy Library</td>\n",
       "      <td>https://soilspectroscopy.github.io</td>\n",
       "      <td>13477</td>\n",
       "      <td>13477</td>\n",
       "      <td>White Sands</td>\n",
       "      <td>USA</td>\n",
       "      <td>GPS</td>\n",
       "      <td>...</td>\n",
       "      <td>149.0</td>\n",
       "      <td>149.0</td>\n",
       "      <td>148.0</td>\n",
       "      <td>148.0</td>\n",
       "      <td>147.0</td>\n",
       "      <td>147.0</td>\n",
       "      <td>146.0</td>\n",
       "      <td>145.0</td>\n",
       "      <td>145.0</td>\n",
       "      <td>144.0</td>\n",
       "    </tr>\n",
       "  </tbody>\n",
       "</table>\n",
       "<p>5 rows × 1775 columns</p>\n",
       "</div>"
      ],
      "text/plain": [
       "   Unnamed: 0 id.location_olc_c                   id.layer_uuid_c  \\\n",
       "0           0       854MFJ9X+V8  7461ec5822f31c1071c09bb5ad293bb4   \n",
       "1           1       854MFJ9X+V8  696da8718f4b20ac408558e7dfd9f7ee   \n",
       "2           2       854MFJ9X+V8  d28bab21a85b3f51bb54f9f78c9b01ed   \n",
       "3           3       854MFJ9X+V8  61b28560becdc2c79efd872fdbf12d03   \n",
       "4           4       854MFJ9X+V8  a0946d7385a92c63af1fba1f83cb2238   \n",
       "\n",
       "  observation.ogc.schema.title_ogc_txt      observation.ogc.schema_idn_url  \\\n",
       "0       Open Soil Spectroscopy Library  https://soilspectroscopy.github.io   \n",
       "1       Open Soil Spectroscopy Library  https://soilspectroscopy.github.io   \n",
       "2       Open Soil Spectroscopy Library  https://soilspectroscopy.github.io   \n",
       "3       Open Soil Spectroscopy Library  https://soilspectroscopy.github.io   \n",
       "4       Open Soil Spectroscopy Library  https://soilspectroscopy.github.io   \n",
       "\n",
       "   observation.date.begin_iso.8601_yyyy.mm.dd  \\\n",
       "0                                       13477   \n",
       "1                                       13477   \n",
       "2                                       13477   \n",
       "3                                       13477   \n",
       "4                                       13477   \n",
       "\n",
       "   observation.date.end_iso.8601_yyyy.mm.dd location.address_utf8_txt  \\\n",
       "0                                     13477              White Sands    \n",
       "1                                     13477              White Sands    \n",
       "2                                     13477              White Sands    \n",
       "3                                     13477              White Sands    \n",
       "4                                     13477              White Sands    \n",
       "\n",
       "  location.country_iso.3166_c location.method_any_c  ... scan_mir.3982_abs  \\\n",
       "0                         USA                   GPS  ...             257.0   \n",
       "1                         USA                   GPS  ...             333.0   \n",
       "2                         USA                   GPS  ...             241.0   \n",
       "3                         USA                   GPS  ...             165.0   \n",
       "4                         USA                   GPS  ...             149.0   \n",
       "\n",
       "  scan_mir.3984_abs scan_mir.3986_abs  scan_mir.3988_abs  scan_mir.3990_abs  \\\n",
       "0             257.0             257.0              257.0              257.0   \n",
       "1             334.0             334.0              334.0              335.0   \n",
       "2             241.0             241.0              241.0              240.0   \n",
       "3             165.0             164.0              164.0              163.0   \n",
       "4             149.0             148.0              148.0              147.0   \n",
       "\n",
       "   scan_mir.3992_abs scan_mir.3994_abs scan_mir.3996_abs scan_mir.3998_abs  \\\n",
       "0              257.0             257.0             257.0             257.0   \n",
       "1              335.0             336.0             336.0             336.0   \n",
       "2              240.0             240.0             240.0             240.0   \n",
       "3              162.0             162.0             161.0             160.0   \n",
       "4              147.0             146.0             145.0             145.0   \n",
       "\n",
       "  scan_mir.4000_abs  \n",
       "0             257.0  \n",
       "1             337.0  \n",
       "2             240.0  \n",
       "3             160.0  \n",
       "4             144.0  \n",
       "\n",
       "[5 rows x 1775 columns]"
      ]
     },
     "execution_count": 14,
     "metadata": {},
     "output_type": "execute_result"
    }
   ],
   "source": [
    "data = data = pd.read_csv('K:/Google Drive/DOUTORADO/Tese 2.0/Chapter I/KELLOGs/soilsite_dataset.csv')\n",
    "\n",
    "data.head()"
   ]
  },
  {
   "cell_type": "code",
   "execution_count": 15,
   "id": "de1f7ee1-a934-4903-a1de-a635b838c553",
   "metadata": {},
   "outputs": [
    {
     "data": {
      "text/plain": [
       "(1337, 1775)"
      ]
     },
     "execution_count": 15,
     "metadata": {},
     "output_type": "execute_result"
    }
   ],
   "source": [
    "data.shape"
   ]
  },
  {
   "cell_type": "code",
   "execution_count": 16,
   "id": "401243d9-877b-4a4e-85bf-37e22477fde4",
   "metadata": {},
   "outputs": [],
   "source": [
    "df = data.iloc[:,:45]"
   ]
  },
  {
   "cell_type": "code",
   "execution_count": 17,
   "id": "2071266d-952f-4500-acf0-6d0243d6e3f5",
   "metadata": {},
   "outputs": [
    {
     "data": {
      "text/plain": [
       "Index(['Unnamed: 0', 'id.location_olc_c', 'id.layer_uuid_c',\n",
       "       'observation.ogc.schema.title_ogc_txt',\n",
       "       'observation.ogc.schema_idn_url',\n",
       "       'observation.date.begin_iso.8601_yyyy.mm.dd',\n",
       "       'observation.date.end_iso.8601_yyyy.mm.dd', 'location.address_utf8_txt',\n",
       "       'location.country_iso.3166_c', 'location.method_any_c',\n",
       "       'surveyor.title_utf8_txt', 'surveyor.contact_ietf_email',\n",
       "       'surveyor.address_utf8_txt', 'longitude_wgs84_dd', 'latitude_wgs84_dd',\n",
       "       'location.error_any_m', 'dataset.title_utf8_txt',\n",
       "       'dataset.owner_utf8_txt', 'dataset.code_ascii_c',\n",
       "       'dataset.address_idn_url', 'dataset.license.title_ascii_txt',\n",
       "       'dataset.license.address_idn_url', 'dataset.doi_idf_c',\n",
       "       'dataset.contact.name_utf8_txt', 'dataset.contact_ietf_email',\n",
       "       'id.project_ascii_c', 'id.user.site_ascii_c', 'pedon.taxa_usda_c',\n",
       "       'pedon.completeness_usda_uint8', 'layer.sequence_usda_uint16',\n",
       "       'layer.type_usda_c', 'layer.field.label_any_c',\n",
       "       'layer.upper.depth_usda_cm', 'layer.lower.depth_usda_cm',\n",
       "       'horizon.designation_usda_c',\n",
       "       'horizon.designation.discontinuity_usda_c',\n",
       "       'layer.structure.type_usda_c', 'layer.structure.grade_usda_c',\n",
       "       'layer.texture_usda_c', 'id.layer_local_c', 'id_mir', 'id_vis',\n",
       "       'id.layer_local_c_x', 'sample.contact.name_utf8_txt',\n",
       "       'sample.contact.email_ietf_email'],\n",
       "      dtype='object')"
      ]
     },
     "execution_count": 17,
     "metadata": {},
     "output_type": "execute_result"
    }
   ],
   "source": [
    "df.columns"
   ]
  },
  {
   "cell_type": "code",
   "execution_count": 18,
   "id": "1149546a-e765-4888-bdd3-0fc0e699a869",
   "metadata": {},
   "outputs": [
    {
     "data": {
      "text/plain": [
       "Unnamed: 0                                       0\n",
       "id.location_olc_c                              309\n",
       "id.layer_uuid_c                                  0\n",
       "observation.ogc.schema.title_ogc_txt             0\n",
       "observation.ogc.schema_idn_url                   0\n",
       "observation.date.begin_iso.8601_yyyy.mm.dd       0\n",
       "observation.date.end_iso.8601_yyyy.mm.dd         0\n",
       "location.address_utf8_txt                        0\n",
       "location.country_iso.3166_c                      0\n",
       "location.method_any_c                            0\n",
       "surveyor.title_utf8_txt                          0\n",
       "surveyor.contact_ietf_email                      0\n",
       "surveyor.address_utf8_txt                        0\n",
       "longitude_wgs84_dd                               0\n",
       "latitude_wgs84_dd                                0\n",
       "location.error_any_m                             0\n",
       "dataset.title_utf8_txt                           0\n",
       "dataset.owner_utf8_txt                           0\n",
       "dataset.code_ascii_c                             0\n",
       "dataset.address_idn_url                          0\n",
       "dataset.license.title_ascii_txt                  0\n",
       "dataset.license.address_idn_url                  0\n",
       "dataset.doi_idf_c                             1337\n",
       "dataset.contact.name_utf8_txt                    0\n",
       "dataset.contact_ietf_email                       0\n",
       "id.project_ascii_c                               0\n",
       "id.user.site_ascii_c                             0\n",
       "pedon.taxa_usda_c                              208\n",
       "pedon.completeness_usda_uint8                 1337\n",
       "layer.sequence_usda_uint16                       0\n",
       "layer.type_usda_c                             1337\n",
       "layer.field.label_any_c                       1337\n",
       "layer.upper.depth_usda_cm                        0\n",
       "layer.lower.depth_usda_cm                        0\n",
       "horizon.designation_usda_c                       0\n",
       "horizon.designation.discontinuity_usda_c      1136\n",
       "layer.structure.type_usda_c                   1337\n",
       "layer.structure.grade_usda_c                  1337\n",
       "layer.texture_usda_c                           391\n",
       "id.layer_local_c                                 0\n",
       "id_mir                                           0\n",
       "id_vis                                           0\n",
       "id.layer_local_c_x                               0\n",
       "sample.contact.name_utf8_txt                     0\n",
       "sample.contact.email_ietf_email                  0\n",
       "dtype: int64"
      ]
     },
     "execution_count": 18,
     "metadata": {},
     "output_type": "execute_result"
    }
   ],
   "source": [
    "df.isnull().sum()"
   ]
  },
  {
   "cell_type": "code",
   "execution_count": 42,
   "id": "21815163-3a10-4ab0-8d4e-08eac7dd940c",
   "metadata": {},
   "outputs": [
    {
     "data": {
      "text/plain": [
       "(527, 45)"
      ]
     },
     "execution_count": 42,
     "metadata": {},
     "output_type": "execute_result"
    }
   ],
   "source": [
    "topsoil = df.query('`layer.lower.depth_usda_cm` <= 30.0')\n",
    "\n",
    "topsoil.shape"
   ]
  },
  {
   "cell_type": "code",
   "execution_count": 43,
   "id": "701dfb1c-2725-4f8b-92b0-ff288ccbe002",
   "metadata": {},
   "outputs": [
    {
     "data": {
      "text/plain": [
       "(585, 45)"
      ]
     },
     "execution_count": 43,
     "metadata": {},
     "output_type": "execute_result"
    }
   ],
   "source": [
    "subsoil = df.query('`layer.upper.depth_usda_cm` >= 30.0 ')\n",
    "\n",
    "subsoil.shape"
   ]
  },
  {
   "cell_type": "code",
   "execution_count": 44,
   "id": "152d38c2-9162-49c1-912f-79ef8fc90543",
   "metadata": {},
   "outputs": [],
   "source": [
    "topsoil_id = topsoil['id.layer_uuid_c'].tolist()"
   ]
  },
  {
   "cell_type": "code",
   "execution_count": 45,
   "id": "c413e24d-43a9-47b7-b031-30d165948a74",
   "metadata": {},
   "outputs": [],
   "source": [
    "subsoil_id = subsoil['id.layer_uuid_c'].tolist()"
   ]
  },
  {
   "cell_type": "code",
   "execution_count": 38,
   "id": "12e2d6a6-cc22-4c32-b031-550812a85b3e",
   "metadata": {},
   "outputs": [],
   "source": [
    "with open('topsoil.csv', 'w') as file:\n",
    "    for uuid in topsoil_id:\n",
    "        file.write(f\"{uuid}\\n\")"
   ]
  },
  {
   "cell_type": "code",
   "execution_count": 39,
   "id": "779b4380-1a93-4d0c-8f86-a3298a70569a",
   "metadata": {},
   "outputs": [],
   "source": [
    "with open('subsoil.csv', 'w') as file:\n",
    "    for uuid in subsoil_id:\n",
    "        file.write(f\"{uuid}\\n\")"
   ]
  }
 ],
 "metadata": {
  "kernelspec": {
   "display_name": "python311",
   "language": "python",
   "name": "python311"
  },
  "language_info": {
   "codemirror_mode": {
    "name": "ipython",
    "version": 3
   },
   "file_extension": ".py",
   "mimetype": "text/x-python",
   "name": "python",
   "nbconvert_exporter": "python",
   "pygments_lexer": "ipython3",
   "version": "3.11.0"
  }
 },
 "nbformat": 4,
 "nbformat_minor": 5
}
