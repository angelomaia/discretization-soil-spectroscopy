{
 "cells": [
  {
   "cell_type": "code",
   "execution_count": 43,
   "id": "929d1fb4-21fb-46aa-bbd4-145f1368bc2c",
   "metadata": {},
   "outputs": [],
   "source": [
    "import pandas as pd\n",
    "import numpy as np"
   ]
  },
  {
   "cell_type": "code",
   "execution_count": 44,
   "id": "2d467b4e-5c0c-49b1-a356-45dcb5df7dd7",
   "metadata": {},
   "outputs": [],
   "source": [
    "import matplotlib.pyplot as plt\n",
    "import seaborn as sns\n",
    "from sklearn.metrics import confusion_matrix\n",
    "from sklearn.model_selection import train_test_split\n",
    "from sklearn.model_selection import cross_validate\n",
    "from sklearn.model_selection import StratifiedKFold\n",
    "from sklearn.tree import DecisionTreeClassifier\n",
    "from sklearn.ensemble import RandomForestClassifier\n",
    "from sklearn.dummy import DummyClassifier\n",
    "import xgboost as xgb\n",
    "from sklearn.metrics import accuracy_score\n",
    "from sklearn.model_selection import GridSearchCV"
   ]
  },
  {
   "cell_type": "code",
   "execution_count": 45,
   "id": "5f1e4474-3f13-4d34-b93a-1265ce54a489",
   "metadata": {},
   "outputs": [
    {
     "data": {
      "text/html": [
       "<div>\n",
       "<style scoped>\n",
       "    .dataframe tbody tr th:only-of-type {\n",
       "        vertical-align: middle;\n",
       "    }\n",
       "\n",
       "    .dataframe tbody tr th {\n",
       "        vertical-align: top;\n",
       "    }\n",
       "\n",
       "    .dataframe thead th {\n",
       "        text-align: right;\n",
       "    }\n",
       "</style>\n",
       "<table border=\"1\" class=\"dataframe\">\n",
       "  <thead>\n",
       "    <tr style=\"text-align: right;\">\n",
       "      <th></th>\n",
       "      <th>id.layer_uuid_c</th>\n",
       "      <th>As</th>\n",
       "      <th>Ba</th>\n",
       "      <th>Cd</th>\n",
       "      <th>Co</th>\n",
       "      <th>Cr</th>\n",
       "      <th>Cu</th>\n",
       "      <th>Pb</th>\n",
       "      <th>Zn</th>\n",
       "      <th>Mo</th>\n",
       "      <th>...</th>\n",
       "      <th>scan_mir.3982_abs</th>\n",
       "      <th>scan_mir.3984_abs</th>\n",
       "      <th>scan_mir.3986_abs</th>\n",
       "      <th>scan_mir.3988_abs</th>\n",
       "      <th>scan_mir.3990_abs</th>\n",
       "      <th>scan_mir.3992_abs</th>\n",
       "      <th>scan_mir.3994_abs</th>\n",
       "      <th>scan_mir.3996_abs</th>\n",
       "      <th>scan_mir.3998_abs</th>\n",
       "      <th>scan_mir.4000_abs</th>\n",
       "    </tr>\n",
       "  </thead>\n",
       "  <tbody>\n",
       "    <tr>\n",
       "      <th>0</th>\n",
       "      <td>7461ec5822f31c1071c09bb5ad293bb4</td>\n",
       "      <td>3.698316</td>\n",
       "      <td>10.367132</td>\n",
       "      <td>0.230254</td>\n",
       "      <td>0.066523</td>\n",
       "      <td>0.010217</td>\n",
       "      <td>0.240519</td>\n",
       "      <td>0.076629</td>\n",
       "      <td>0.885191</td>\n",
       "      <td>0.010249</td>\n",
       "      <td>...</td>\n",
       "      <td>257</td>\n",
       "      <td>257</td>\n",
       "      <td>257</td>\n",
       "      <td>257</td>\n",
       "      <td>257</td>\n",
       "      <td>257</td>\n",
       "      <td>257</td>\n",
       "      <td>257</td>\n",
       "      <td>257</td>\n",
       "      <td>257</td>\n",
       "    </tr>\n",
       "  </tbody>\n",
       "</table>\n",
       "<p>1 rows × 1711 columns</p>\n",
       "</div>"
      ],
      "text/plain": [
       "                    id.layer_uuid_c        As         Ba        Cd        Co  \\\n",
       "0  7461ec5822f31c1071c09bb5ad293bb4  3.698316  10.367132  0.230254  0.066523   \n",
       "\n",
       "         Cr        Cu        Pb        Zn        Mo  ...  scan_mir.3982_abs  \\\n",
       "0  0.010217  0.240519  0.076629  0.885191  0.010249  ...                257   \n",
       "\n",
       "   scan_mir.3984_abs  scan_mir.3986_abs  scan_mir.3988_abs  scan_mir.3990_abs  \\\n",
       "0                257                257                257                257   \n",
       "\n",
       "   scan_mir.3992_abs  scan_mir.3994_abs  scan_mir.3996_abs  scan_mir.3998_abs  \\\n",
       "0                257                257                257                257   \n",
       "\n",
       "   scan_mir.4000_abs  \n",
       "0                257  \n",
       "\n",
       "[1 rows x 1711 columns]"
      ]
     },
     "execution_count": 45,
     "metadata": {},
     "output_type": "execute_result"
    }
   ],
   "source": [
    "data = pd.read_csv('K:/Google Drive/DOUTORADO/KELLOGs/dataset.csv')\n",
    "\n",
    "data.head(1)"
   ]
  },
  {
   "cell_type": "code",
   "execution_count": 46,
   "id": "d6691aef-5d1d-4176-a218-00b3fca01d97",
   "metadata": {},
   "outputs": [
    {
     "data": {
      "text/plain": [
       "['As', 'Ba', 'Cd', 'Co', 'Cr', 'Cu', 'Pb', 'Zn', 'Mo']"
      ]
     },
     "execution_count": 46,
     "metadata": {},
     "output_type": "execute_result"
    }
   ],
   "source": [
    "Elements = ['As', 'Ba', 'Cd', 'Co', 'Cr', 'Cu', 'Pb', 'Zn', 'Mo']\n",
    "\n",
    "Elements"
   ]
  },
  {
   "cell_type": "code",
   "execution_count": 47,
   "id": "c35b3a04-9649-4913-acd2-d1524b93c5ee",
   "metadata": {},
   "outputs": [
    {
     "name": "stdout",
     "output_type": "stream",
     "text": [
      "0.8761626361256543\n",
      "68.18153383261031\n",
      "0.1622833148092745\n",
      "0.8696289974195961\n",
      "0.4259727088631264\n",
      "2.3214676244577417\n",
      "1.499970837696335\n",
      "2.3024605637621542\n",
      "0.1445149934181002\n"
     ]
    }
   ],
   "source": [
    "for i in Elements:\n",
    "    print(data[i].mean())"
   ]
  },
  {
   "cell_type": "code",
   "execution_count": 48,
   "id": "d91adfdc-e3d6-4fef-84af-65222c20fbaa",
   "metadata": {},
   "outputs": [
    {
     "data": {
      "text/plain": [
       "count    1337.000000\n",
       "mean        0.876163\n",
       "std         1.672372\n",
       "min         0.000000\n",
       "25%         0.000000\n",
       "50%         0.132570\n",
       "75%         0.873633\n",
       "max        18.308481\n",
       "Name: As, dtype: float64"
      ]
     },
     "execution_count": 48,
     "metadata": {},
     "output_type": "execute_result"
    }
   ],
   "source": [
    "data['As'].describe()"
   ]
  },
  {
   "cell_type": "code",
   "execution_count": 49,
   "id": "221de89b-3aa8-4d5c-acd4-a1b86246ec45",
   "metadata": {},
   "outputs": [],
   "source": [
    "def prediction(i, data):\n",
    "\n",
    "    SEED = 255\n",
    "    np.random.seed(SEED)\n",
    "\n",
    "    Class = pd.DataFrame()\n",
    "    Class['Class'] = pd.cut(data[i],\n",
    "                               bins = [data[i].min(), data[i].quantile(0.75), data[i].max()],\n",
    "                               labels = [0, 1],\n",
    "                               right = False)\n",
    "\n",
    "    Class = pd.concat([Class, data.iloc[:,10:]], axis=1)\n",
    "    x = Class.dropna().drop(columns=['Class'])\n",
    "    y = Class['Class'].dropna()\n",
    "\n",
    "    x_train, x_test, y_train, y_test = train_test_split(x, y,\n",
    "                                                            test_size=0.2,\n",
    "                                                            shuffle=True,\n",
    "                                                            stratify=y)\n",
    "    decision = DecisionTreeClassifier()\n",
    "    decision.fit(x_train,y_train)\n",
    "\n",
    "    print(f\"A acurácia para {i} usando DecisionTree foi de %.2f%%\" % (decision.score(x_test, y_test) * 100))\n",
    "\n",
    "    Random = RandomForestClassifier()\n",
    "    Random.fit(x_train,y_train)\n",
    "\n",
    "    print(f\"A acurácia para {i} usando RandomForest foi de %.2f%%\" % (Random.score(x_test, y_test) * 100))\n",
    "    \n",
    "    xgb_classifier = xgb.XGBClassifier()\n",
    "    xgb_classifier.fit(x_train, y_train)\n",
    "\n",
    "    print(f\"A acurácia para {i} usando XGBoost foi de %.2f%%\" % (xgb_classifier.score(x_test, y_test) * 100))"
   ]
  },
  {
   "cell_type": "code",
   "execution_count": 50,
   "id": "12551ff5-676b-475a-a6df-938943e9657e",
   "metadata": {},
   "outputs": [],
   "source": [
    "def xgb_finetuning(i, data):\n",
    "    \n",
    "    SEED = 255\n",
    "    np.random.seed(SEED)\n",
    "\n",
    "    Class = pd.DataFrame()\n",
    "    Class['Class'] = pd.cut(data[i],\n",
    "                               bins = [data[i].min(), data[i].quantile(0.75), data[i].max()],\n",
    "                               labels = [0, 1],\n",
    "                               right = False)\n",
    "\n",
    "    Class = pd.concat([Class, data.iloc[:,10:]], axis=1)\n",
    "    x = Class.dropna().drop(columns=['Class'])\n",
    "    y = Class['Class'].dropna()\n",
    "\n",
    "    x_train, x_test, y_train, y_test = train_test_split(x, y,\n",
    "                                                            test_size=0.2,\n",
    "                                                            shuffle=True,\n",
    "                                                            stratify=y)\n",
    "    \n",
    "    xgb_classifier = xgb.XGBClassifier()\n",
    "\n",
    "    param_grid = {\n",
    "        'max_depth': [4, 6, 8],\n",
    "        'learning_rate': [0.1, 0.2, 0.3],\n",
    "        'subsample': [0.5, 1.0],\n",
    "        'gamma': [0, 0.1]\n",
    "    }\n",
    "\n",
    "    grid_search = GridSearchCV(estimator=xgb_classifier, param_grid=param_grid, scoring='accuracy', cv=5)\n",
    "    grid_search.fit(x_train, y_train)\n",
    "\n",
    "    best_params = grid_search.best_params_\n",
    "    best_model = grid_search.best_estimator_\n",
    "    \n",
    "    y_pred = best_model.predict(x_test)\n",
    "\n",
    "    accuracy = accuracy_score(y_test, y_pred)\n",
    "    print(f\"Accuracy for {i}: %.2f%%\" % (accuracy * 100.0))\n",
    "\n",
    "    print(f\"Best Parameters for {i}: \", best_params)"
   ]
  },
  {
   "cell_type": "code",
   "execution_count": 51,
   "id": "0940aed4-3496-4749-a1df-1f101bbe9886",
   "metadata": {},
   "outputs": [
    {
     "name": "stdout",
     "output_type": "stream",
     "text": [
      "A acurácia para As usando DecisionTree foi de 87.31%\n",
      "A acurácia para As usando RandomForest foi de 89.93%\n",
      "A acurácia para As usando XGBoost foi de 89.55%\n",
      "A acurácia para Ba usando DecisionTree foi de 86.19%\n",
      "A acurácia para Ba usando RandomForest foi de 89.55%\n",
      "A acurácia para Ba usando XGBoost foi de 89.93%\n",
      "A acurácia para Cd usando DecisionTree foi de 90.67%\n",
      "A acurácia para Cd usando RandomForest foi de 94.03%\n",
      "A acurácia para Cd usando XGBoost foi de 95.15%\n",
      "A acurácia para Co usando DecisionTree foi de 80.97%\n",
      "A acurácia para Co usando RandomForest foi de 85.07%\n",
      "A acurácia para Co usando XGBoost foi de 86.57%\n",
      "A acurácia para Cr usando DecisionTree foi de 84.70%\n",
      "A acurácia para Cr usando RandomForest foi de 89.18%\n",
      "A acurácia para Cr usando XGBoost foi de 89.18%\n",
      "A acurácia para Cu usando DecisionTree foi de 80.22%\n",
      "A acurácia para Cu usando RandomForest foi de 88.81%\n",
      "A acurácia para Cu usando XGBoost foi de 86.94%\n",
      "A acurácia para Pb usando DecisionTree foi de 82.09%\n",
      "A acurácia para Pb usando RandomForest foi de 87.31%\n",
      "A acurácia para Pb usando XGBoost foi de 86.19%\n",
      "A acurácia para Zn usando DecisionTree foi de 80.97%\n",
      "A acurácia para Zn usando RandomForest foi de 87.69%\n",
      "A acurácia para Zn usando XGBoost foi de 85.82%\n",
      "A acurácia para Mo usando DecisionTree foi de 79.85%\n",
      "A acurácia para Mo usando RandomForest foi de 86.94%\n",
      "A acurácia para Mo usando XGBoost foi de 84.33%\n"
     ]
    }
   ],
   "source": [
    "for i in Elements:\n",
    "    prediction(i, data)"
   ]
  },
  {
   "cell_type": "code",
   "execution_count": 52,
   "id": "c7ae5b8a-742f-41da-b927-62dbc8660fd4",
   "metadata": {},
   "outputs": [
    {
     "name": "stdout",
     "output_type": "stream",
     "text": [
      "Accuracy for As: 91.04%\n",
      "Best Parameters for As:  {'gamma': 0.1, 'learning_rate': 0.1, 'max_depth': 6, 'subsample': 0.5}\n",
      "Accuracy for Ba: 86.94%\n",
      "Best Parameters for Ba:  {'gamma': 0, 'learning_rate': 0.1, 'max_depth': 8, 'subsample': 1.0}\n",
      "Accuracy for Cd: 95.15%\n",
      "Best Parameters for Cd:  {'gamma': 0, 'learning_rate': 0.1, 'max_depth': 6, 'subsample': 1.0}\n",
      "Accuracy for Co: 86.57%\n",
      "Best Parameters for Co:  {'gamma': 0, 'learning_rate': 0.3, 'max_depth': 8, 'subsample': 1.0}\n",
      "Accuracy for Cr: 90.30%\n",
      "Best Parameters for Cr:  {'gamma': 0, 'learning_rate': 0.1, 'max_depth': 8, 'subsample': 0.5}\n",
      "Accuracy for Cu: 88.81%\n",
      "Best Parameters for Cu:  {'gamma': 0.1, 'learning_rate': 0.1, 'max_depth': 8, 'subsample': 0.5}\n",
      "Accuracy for Pb: 87.69%\n",
      "Best Parameters for Pb:  {'gamma': 0, 'learning_rate': 0.3, 'max_depth': 4, 'subsample': 0.5}\n",
      "Accuracy for Zn: 87.31%\n",
      "Best Parameters for Zn:  {'gamma': 0, 'learning_rate': 0.1, 'max_depth': 6, 'subsample': 0.5}\n",
      "Accuracy for Mo: 84.33%\n",
      "Best Parameters for Mo:  {'gamma': 0, 'learning_rate': 0.3, 'max_depth': 8, 'subsample': 0.5}\n"
     ]
    }
   ],
   "source": [
    "for i in Elements:\n",
    "    xgb_finetuning(i, data)"
   ]
  },
  {
   "cell_type": "code",
   "execution_count": 4,
   "id": "f85cca70-ab57-4cd6-9e50-49caf2101f1b",
   "metadata": {},
   "outputs": [
    {
     "data": {
      "text/plain": [
       "0    1002\n",
       "1     334\n",
       "Name: Class, dtype: int64"
      ]
     },
     "execution_count": 4,
     "metadata": {},
     "output_type": "execute_result"
    }
   ],
   "source": [
    "As_class = pd.DataFrame()\n",
    "As_class['Class'] = pd.cut(data['As'],\n",
    "                           bins = [data.As.min(), data.As.quantile(0.75), data.As.max()],\n",
    "                           labels = [0, 1],\n",
    "                           right = False)\n",
    "\n",
    "As_class.Class.value_counts()"
   ]
  },
  {
   "cell_type": "code",
   "execution_count": 7,
   "id": "9c3faa3f-714d-4259-bcef-a2602c4faa9a",
   "metadata": {},
   "outputs": [
    {
     "data": {
      "text/html": [
       "<div>\n",
       "<style scoped>\n",
       "    .dataframe tbody tr th:only-of-type {\n",
       "        vertical-align: middle;\n",
       "    }\n",
       "\n",
       "    .dataframe tbody tr th {\n",
       "        vertical-align: top;\n",
       "    }\n",
       "\n",
       "    .dataframe thead th {\n",
       "        text-align: right;\n",
       "    }\n",
       "</style>\n",
       "<table border=\"1\" class=\"dataframe\">\n",
       "  <thead>\n",
       "    <tr style=\"text-align: right;\">\n",
       "      <th></th>\n",
       "      <th>scan_mir.600_abs</th>\n",
       "      <th>scan_mir.602_abs</th>\n",
       "      <th>scan_mir.604_abs</th>\n",
       "      <th>scan_mir.606_abs</th>\n",
       "      <th>scan_mir.608_abs</th>\n",
       "      <th>scan_mir.610_abs</th>\n",
       "      <th>scan_mir.612_abs</th>\n",
       "      <th>scan_mir.614_abs</th>\n",
       "      <th>scan_mir.616_abs</th>\n",
       "      <th>scan_mir.618_abs</th>\n",
       "      <th>...</th>\n",
       "      <th>scan_mir.3982_abs</th>\n",
       "      <th>scan_mir.3984_abs</th>\n",
       "      <th>scan_mir.3986_abs</th>\n",
       "      <th>scan_mir.3988_abs</th>\n",
       "      <th>scan_mir.3990_abs</th>\n",
       "      <th>scan_mir.3992_abs</th>\n",
       "      <th>scan_mir.3994_abs</th>\n",
       "      <th>scan_mir.3996_abs</th>\n",
       "      <th>scan_mir.3998_abs</th>\n",
       "      <th>scan_mir.4000_abs</th>\n",
       "    </tr>\n",
       "  </thead>\n",
       "  <tbody>\n",
       "    <tr>\n",
       "      <th>0</th>\n",
       "      <td>1514</td>\n",
       "      <td>1512</td>\n",
       "      <td>1518</td>\n",
       "      <td>1530</td>\n",
       "      <td>1552</td>\n",
       "      <td>1581</td>\n",
       "      <td>1615</td>\n",
       "      <td>1650</td>\n",
       "      <td>1683</td>\n",
       "      <td>1712</td>\n",
       "      <td>...</td>\n",
       "      <td>257</td>\n",
       "      <td>257</td>\n",
       "      <td>257</td>\n",
       "      <td>257</td>\n",
       "      <td>257</td>\n",
       "      <td>257</td>\n",
       "      <td>257</td>\n",
       "      <td>257</td>\n",
       "      <td>257</td>\n",
       "      <td>257</td>\n",
       "    </tr>\n",
       "  </tbody>\n",
       "</table>\n",
       "<p>1 rows × 1701 columns</p>\n",
       "</div>"
      ],
      "text/plain": [
       "   scan_mir.600_abs  scan_mir.602_abs  scan_mir.604_abs  scan_mir.606_abs  \\\n",
       "0              1514              1512              1518              1530   \n",
       "\n",
       "   scan_mir.608_abs  scan_mir.610_abs  scan_mir.612_abs  scan_mir.614_abs  \\\n",
       "0              1552              1581              1615              1650   \n",
       "\n",
       "   scan_mir.616_abs  scan_mir.618_abs  ...  scan_mir.3982_abs  \\\n",
       "0              1683              1712  ...                257   \n",
       "\n",
       "   scan_mir.3984_abs  scan_mir.3986_abs  scan_mir.3988_abs  scan_mir.3990_abs  \\\n",
       "0                257                257                257                257   \n",
       "\n",
       "   scan_mir.3992_abs  scan_mir.3994_abs  scan_mir.3996_abs  scan_mir.3998_abs  \\\n",
       "0                257                257                257                257   \n",
       "\n",
       "   scan_mir.4000_abs  \n",
       "0                257  \n",
       "\n",
       "[1 rows x 1701 columns]"
      ]
     },
     "execution_count": 7,
     "metadata": {},
     "output_type": "execute_result"
    }
   ],
   "source": [
    "data.iloc[:,10:].head(1)"
   ]
  },
  {
   "cell_type": "code",
   "execution_count": 8,
   "id": "c2f9cc71-c29c-49a4-a8dc-da655c67904c",
   "metadata": {},
   "outputs": [
    {
     "data": {
      "text/html": [
       "<div>\n",
       "<style scoped>\n",
       "    .dataframe tbody tr th:only-of-type {\n",
       "        vertical-align: middle;\n",
       "    }\n",
       "\n",
       "    .dataframe tbody tr th {\n",
       "        vertical-align: top;\n",
       "    }\n",
       "\n",
       "    .dataframe thead th {\n",
       "        text-align: right;\n",
       "    }\n",
       "</style>\n",
       "<table border=\"1\" class=\"dataframe\">\n",
       "  <thead>\n",
       "    <tr style=\"text-align: right;\">\n",
       "      <th></th>\n",
       "      <th>Class</th>\n",
       "      <th>scan_mir.600_abs</th>\n",
       "      <th>scan_mir.602_abs</th>\n",
       "      <th>scan_mir.604_abs</th>\n",
       "      <th>scan_mir.606_abs</th>\n",
       "      <th>scan_mir.608_abs</th>\n",
       "      <th>scan_mir.610_abs</th>\n",
       "      <th>scan_mir.612_abs</th>\n",
       "      <th>scan_mir.614_abs</th>\n",
       "      <th>scan_mir.616_abs</th>\n",
       "      <th>...</th>\n",
       "      <th>scan_mir.3982_abs</th>\n",
       "      <th>scan_mir.3984_abs</th>\n",
       "      <th>scan_mir.3986_abs</th>\n",
       "      <th>scan_mir.3988_abs</th>\n",
       "      <th>scan_mir.3990_abs</th>\n",
       "      <th>scan_mir.3992_abs</th>\n",
       "      <th>scan_mir.3994_abs</th>\n",
       "      <th>scan_mir.3996_abs</th>\n",
       "      <th>scan_mir.3998_abs</th>\n",
       "      <th>scan_mir.4000_abs</th>\n",
       "    </tr>\n",
       "  </thead>\n",
       "  <tbody>\n",
       "    <tr>\n",
       "      <th>0</th>\n",
       "      <td>1</td>\n",
       "      <td>1514</td>\n",
       "      <td>1512</td>\n",
       "      <td>1518</td>\n",
       "      <td>1530</td>\n",
       "      <td>1552</td>\n",
       "      <td>1581</td>\n",
       "      <td>1615</td>\n",
       "      <td>1650</td>\n",
       "      <td>1683</td>\n",
       "      <td>...</td>\n",
       "      <td>257</td>\n",
       "      <td>257</td>\n",
       "      <td>257</td>\n",
       "      <td>257</td>\n",
       "      <td>257</td>\n",
       "      <td>257</td>\n",
       "      <td>257</td>\n",
       "      <td>257</td>\n",
       "      <td>257</td>\n",
       "      <td>257</td>\n",
       "    </tr>\n",
       "  </tbody>\n",
       "</table>\n",
       "<p>1 rows × 1702 columns</p>\n",
       "</div>"
      ],
      "text/plain": [
       "  Class  scan_mir.600_abs  scan_mir.602_abs  scan_mir.604_abs  \\\n",
       "0     1              1514              1512              1518   \n",
       "\n",
       "   scan_mir.606_abs  scan_mir.608_abs  scan_mir.610_abs  scan_mir.612_abs  \\\n",
       "0              1530              1552              1581              1615   \n",
       "\n",
       "   scan_mir.614_abs  scan_mir.616_abs  ...  scan_mir.3982_abs  \\\n",
       "0              1650              1683  ...                257   \n",
       "\n",
       "   scan_mir.3984_abs  scan_mir.3986_abs  scan_mir.3988_abs  scan_mir.3990_abs  \\\n",
       "0                257                257                257                257   \n",
       "\n",
       "   scan_mir.3992_abs  scan_mir.3994_abs  scan_mir.3996_abs  scan_mir.3998_abs  \\\n",
       "0                257                257                257                257   \n",
       "\n",
       "   scan_mir.4000_abs  \n",
       "0                257  \n",
       "\n",
       "[1 rows x 1702 columns]"
      ]
     },
     "execution_count": 8,
     "metadata": {},
     "output_type": "execute_result"
    }
   ],
   "source": [
    "As_class = pd.concat([As_class, data.iloc[:,10:]], axis=1)\n",
    "\n",
    "As_class.head(1)"
   ]
  },
  {
   "cell_type": "code",
   "execution_count": 9,
   "id": "dca2c317-9140-41e6-a8d6-835aed658a42",
   "metadata": {},
   "outputs": [],
   "source": []
  },
  {
   "cell_type": "code",
   "execution_count": 10,
   "id": "73627f34-1eb8-448d-96be-f98df35b0378",
   "metadata": {},
   "outputs": [],
   "source": [
    "x = As_class.dropna().drop(columns=['Class'])\n",
    "y = As_class['Class'].dropna()\n",
    "\n",
    "x_train, x_test, y_train, y_test = train_test_split(x, y,\n",
    "                                                        test_size=0.2,\n",
    "                                                        shuffle=True,\n",
    "                                                        stratify=y)"
   ]
  },
  {
   "cell_type": "code",
   "execution_count": 13,
   "id": "2994d6bd-e57b-493f-993b-e5ffc89f8298",
   "metadata": {},
   "outputs": [
    {
     "name": "stdout",
     "output_type": "stream",
     "text": [
      "A acurácia foi de 85.45%\n"
     ]
    },
    {
     "data": {
      "image/png": "[encoded data removed]",
      "text/plain": [
       "<Figure size 1000x800 with 2 Axes>"
      ]
     },
     "metadata": {},
     "output_type": "display_data"
    }
   ],
   "source": [
    "model = DecisionTreeClassifier()\n",
    "model.fit(x_train,y_train)\n",
    "\n",
    "confusion = confusion_matrix(y_test, model.predict(x_test))\n",
    "\n",
    "plt.figure(figsize = (10,8))\n",
    "sns.set(font_scale=2)\n",
    "sns.heatmap(confusion, \n",
    "            annot = True, \n",
    "            fmt = \"d\", \n",
    "            cmap='viridis').set(xlabel = \"Predicted\", \n",
    "                                ylabel = \"Real\")\n",
    "\n",
    "\n",
    "print(\"A acurácia foi de %.2f%%\" % (model.score(x_test, y_test) * 100))"
   ]
  },
  {
   "cell_type": "code",
   "execution_count": 12,
   "id": "edbe34d3-9782-4c5a-8436-6f0aa89322ef",
   "metadata": {},
   "outputs": [
    {
     "name": "stdout",
     "output_type": "stream",
     "text": [
      "A acurácia foi de 88.43%\n"
     ]
    },
    {
     "data": {
      "image/png": "[encoded data removed]",
      "text/plain": [
       "<Figure size 1000x800 with 2 Axes>"
      ]
     },
     "metadata": {},
     "output_type": "display_data"
    }
   ],
   "source": [
    "x = As_class.dropna().drop(columns=['Class'])\n",
    "y = As_class['Class'].dropna()\n",
    "\n",
    "x_train, x_test, y_train, y_test = train_test_split(x, y,\n",
    "                                                        test_size=0.2,\n",
    "                                                        shuffle=True,\n",
    "                                                        stratify=y)\n",
    "\n",
    "model = RandomForestClassifier()\n",
    "model.fit(x_train,y_train)\n",
    "\n",
    "confusion = confusion_matrix(y_test, model.predict(x_test))\n",
    "\n",
    "plt.figure(figsize = (10,8))\n",
    "sns.set(font_scale=2)\n",
    "sns.heatmap(confusion, \n",
    "            annot = True, \n",
    "            fmt = \"d\", \n",
    "            cmap='viridis').set(xlabel = \"Predicted\", \n",
    "                                ylabel = \"Real\")\n",
    "\n",
    "print(\"A acurácia foi de %.2f%%\" % (model.score(x_test, y_test) * 100))"
   ]
  },
  {
   "cell_type": "code",
   "execution_count": null,
   "id": "fe57e0b7-5e4c-4975-b1b4-9012def89aa0",
   "metadata": {},
   "outputs": [],
   "source": []
  },
  {
   "cell_type": "code",
   "execution_count": 13,
   "id": "f52c8259-ca63-4a33-9a88-f79014cd59d1",
   "metadata": {},
   "outputs": [
    {
     "name": "stdout",
     "output_type": "stream",
     "text": [
      "Accuracy com cross validation, 10 = [67.76, 81.48]\n",
      "14.506636619567871\n"
     ]
    }
   ],
   "source": [
    "import time\n",
    "\n",
    "SEED = 255\n",
    "np.random.seed(SEED)\n",
    "\n",
    "tic = time.time()\n",
    "modelo = DecisionTreeClassifier(max_depth=5)\n",
    "cv = StratifiedKFold(n_splits = 10, shuffle=True)\n",
    "results = cross_validate(modelo, x, y, cv = cv, return_train_score=False)\n",
    "media = results['test_score'].mean()\n",
    "desvio_padrao = results['test_score'].std()\n",
    "print(\"Accuracy com cross validation, 10 = [%.2f, %.2f]\" % ((media - 2 * desvio_padrao)*100, (media + 2 * desvio_padrao) * 100))\n",
    "\n",
    "print(time.time() - tic)"
   ]
  },
  {
   "cell_type": "code",
   "execution_count": 14,
   "id": "36f6af26-9939-4b57-ada2-d78a7913c53e",
   "metadata": {},
   "outputs": [
    {
     "name": "stdout",
     "output_type": "stream",
     "text": [
      "Accuracy com cross validation, 10 = [70.14, 87.19]\n",
      "71.23092579841614\n"
     ]
    }
   ],
   "source": [
    "tic = time.time()\n",
    "modelo = RandomForestClassifier(max_depth=80, criterion='entropy')\n",
    "cv = StratifiedKFold(n_splits = 10, shuffle=True)\n",
    "results = cross_validate(modelo, x, y, cv = cv, return_train_score=False)\n",
    "media = results['test_score'].mean()\n",
    "desvio_padrao = results['test_score'].std()\n",
    "print(\"Accuracy com cross validation, 10 = [%.2f, %.2f]\" % ((media - 2 * desvio_padrao)*100, (media + 2 * desvio_padrao) * 100))\n",
    "print(time.time() - tic)"
   ]
  },
  {
   "cell_type": "code",
   "execution_count": 28,
   "id": "3ae002e7-7ef1-4be0-9a37-bd70e3373981",
   "metadata": {},
   "outputs": [],
   "source": [
    "As_class = pd.DataFrame()\n",
    "As_class['Class'] = pd.cut(data['As'],\n",
    "                           bins = [data.As.min(), 1, data.As.max()],\n",
    "                           labels = [0, 1],\n",
    "                           right = False)\n",
    "\n",
    "As_class = pd.concat([As_class, data.iloc[:,10:]], axis=1)\n",
    "\n",
    "x = As_class.dropna().drop(columns=['Class'])\n",
    "y = As_class['Class'].dropna()\n",
    "\n",
    "x_train, x_test, y_train, y_test = train_test_split(x, y,\n",
    "                                                        test_size=0.2,\n",
    "                                                        shuffle=True,\n",
    "                                                        stratify=y)"
   ]
  }
 ],
 "metadata": {
  "kernelspec": {
   "display_name": "python311",
   "language": "python",
   "name": "python311"
  },
  "language_info": {
   "codemirror_mode": {
    "name": "ipython",
    "version": 3
   },
   "file_extension": ".py",
   "mimetype": "text/x-python",
   "name": "python",
   "nbconvert_exporter": "python",
   "pygments_lexer": "ipython3",
   "version": "3.11.0"
  }
 },
 "nbformat": 4,
 "nbformat_minor": 5
}
