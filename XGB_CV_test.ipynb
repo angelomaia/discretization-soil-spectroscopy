{
 "cells": [
  {
   "cell_type": "code",
   "execution_count": 1,
   "id": "74515823-a7c1-49d1-9fbe-13a0c79fdbc6",
   "metadata": {},
   "outputs": [],
   "source": [
    "import pandas as pd\n",
    "import numpy as np\n",
    "\n",
    "from sklearn.model_selection import train_test_split, GridSearchCV, cross_val_score, StratifiedKFold\n",
    "from sklearn.tree import DecisionTreeClassifier\n",
    "from sklearn.ensemble import RandomForestClassifier\n",
    "from sklearn.preprocessing import MinMaxScaler\n",
    "from sklearn.metrics import accuracy_score, confusion_matrix, precision_score, recall_score, f1_score\n",
    "\n",
    "import xgboost as xgb"
   ]
  },
  {
   "cell_type": "code",
   "execution_count": 2,
   "id": "7c666600-2f07-4dc3-8d45-8bd289a85a6d",
   "metadata": {},
   "outputs": [],
   "source": [
    "data = pd.read_csv('K:/Google Drive/DOUTORADO/Tese 2.0/Chapter I/KELLOGs/dataset.csv')\n",
    "\n",
    "Elements = ['As', 'Ba', 'Cd', 'Co', 'Cr', 'Cu', 'Pb', 'Zn', 'Mo']\n",
    "\n",
    "filter = pd.read_csv('filter.csv')\n",
    "\n",
    "data = data[data['id.layer_uuid_c'].isin(filter['id.layer_uuid_c'])]\n",
    "\n",
    "#for col in Elements:\n",
    "#    data = data.sort_values(by=col,ascending=False)\n",
    "#    data = data[5:]"
   ]
  },
  {
   "cell_type": "code",
   "execution_count": 3,
   "id": "088208fd-cb1d-4226-8c2e-c4bdc25833e4",
   "metadata": {},
   "outputs": [],
   "source": [
    "def xgb_cv_val(i, data):\n",
    "\n",
    "    SEED = 255\n",
    "    np.random.seed(SEED)\n",
    "\n",
    "    Class = pd.DataFrame()\n",
    "    Class['Class'] = pd.cut(data[i],\n",
    "                               bins = [data[i].min(), data[i].quantile(0.75), data[i].max()],\n",
    "                               labels = [0, 1],\n",
    "                               right = False)\n",
    "\n",
    "    Class = pd.concat([Class, data.iloc[:,10:]], axis=1)\n",
    "    x = Class.dropna().drop(columns=['Class'])\n",
    "    y = Class['Class'].dropna()\n",
    "\n",
    "    x_train, x_test, y_train, y_test = train_test_split(x, y,\n",
    "                                                            test_size=0.2,\n",
    "                                                            shuffle=True,\n",
    "                                                            stratify=y)\n",
    "    xgb_classifier = xgb.XGBClassifier()\n",
    "    \n",
    "    param_grid = {\n",
    "        'max_depth': [4, 8],\n",
    "        'learning_rate': [0.1, 0.3],\n",
    "        'subsample': [0.5, 1.0],\n",
    "        'gamma': [0, 0.1]\n",
    "    }\n",
    "\n",
    "    cv = StratifiedKFold(n_splits=10, shuffle=True, random_state=SEED)\n",
    "    grid_search = GridSearchCV(estimator=xgb_classifier, param_grid=param_grid, cv=cv)\n",
    "\n",
    "    grid_search.fit(x_train, y_train)\n",
    "    best_params = grid_search.best_params_\n",
    "    best_xgb_classifier = xgb.XGBClassifier(**best_params)\n",
    "    cross_val_scores = cross_val_score(best_xgb_classifier, x_train, y_train, cv=cv)\n",
    "    mean_cv_accuracy = np.mean(cross_val_scores)\n",
    "    \n",
    "    best_xgb_classifier.fit(x_train, y_train)\n",
    "    y_pred = best_xgb_classifier.predict(x_test)\n",
    "    \n",
    "    accuracy = accuracy_score(y_test, y_pred)\n",
    "    precision = precision_score(y_test, y_pred)\n",
    "    recall = recall_score(y_test, y_pred)\n",
    "    f1 = f1_score(y_test, y_pred)\n",
    "    \n",
    "    print(f\"A acurácia para {i} usando XGBoost foi de %.2f%%\" % (accuracy*100))\n",
    "\n",
    "    return mean_cv_accuracy, best_params, accuracy, precision, recall, f1"
   ]
  },
  {
   "cell_type": "code",
   "execution_count": 4,
   "id": "6442dee0-2468-4a8f-bb0a-23a0e8a9e883",
   "metadata": {},
   "outputs": [
    {
     "name": "stdout",
     "output_type": "stream",
     "text": [
      "A acurácia para As usando XGBoost foi de 89.27%\n",
      "A acurácia para Ba usando XGBoost foi de 85.41%\n",
      "A acurácia para Cd usando XGBoost foi de 91.85%\n",
      "A acurácia para Co usando XGBoost foi de 84.12%\n",
      "A acurácia para Cr usando XGBoost foi de 87.55%\n",
      "A acurácia para Cu usando XGBoost foi de 87.12%\n",
      "A acurácia para Pb usando XGBoost foi de 86.27%\n",
      "A acurácia para Zn usando XGBoost foi de 81.55%\n",
      "A acurácia para Mo usando XGBoost foi de 88.41%\n"
     ]
    }
   ],
   "source": [
    "xgb_results = []\n",
    "\n",
    "for i in Elements:\n",
    "    cv_accuracy, best_params, accuracy, precision, recall, f1 = xgb_cv_val(i, data)\n",
    "    result_dict = {\n",
    "        'Element': i,\n",
    "        'CV accuracy': cv_accuracy,\n",
    "        'Best Parameters': best_params,\n",
    "        'Accuracy': accuracy,\n",
    "        'Precision': precision,\n",
    "        'Recall': recall,\n",
    "        'F1 Score': f1\n",
    "    }\n",
    "    xgb_results.append(result_dict)\n",
    "\n",
    "xgb_results_df = pd.DataFrame(xgb_results)\n",
    "xgb_results_df.to_csv('xgb_results.csv', index=False)"
   ]
  },
  {
   "cell_type": "code",
   "execution_count": 5,
   "id": "31bbd4d9-2292-4ac8-8b54-6ba059b472fb",
   "metadata": {},
   "outputs": [
    {
     "name": "stdout",
     "output_type": "stream",
     "text": [
      "(428, 1711) (513, 1711)\n"
     ]
    }
   ],
   "source": [
    "subsoil = pd.read_csv('subsoil.csv', header=None)\n",
    "topsoil = pd.read_csv('topsoil.csv', header=None)\n",
    "\n",
    "topsoil_data = data.loc[data['id.layer_uuid_c'].isin(topsoil[0])]\n",
    "subsoil_data = data.loc[data['id.layer_uuid_c'].isin(subsoil[0])]\n",
    "print(topsoil_data.shape, subsoil_data.shape)"
   ]
  },
  {
   "cell_type": "code",
   "execution_count": null,
   "id": "d64cb7c7-1b34-4f84-a311-55fd955ec918",
   "metadata": {},
   "outputs": [
    {
     "name": "stdout",
     "output_type": "stream",
     "text": [
      "A acurácia para As usando XGBoost foi de 88.37%\n",
      "A acurácia para Ba usando XGBoost foi de 80.23%\n",
      "A acurácia para Cd usando XGBoost foi de 87.21%\n",
      "A acurácia para Co usando XGBoost foi de 87.21%\n"
     ]
    }
   ],
   "source": [
    "topsoil_xgb_results = []\n",
    "\n",
    "for i in Elements:\n",
    "    cv_accuracy, best_params, accuracy, precision, recall, f1 = xgb_cv_val(i, topsoil_data)\n",
    "    result_dict = {\n",
    "        'Element': i,\n",
    "        'CV accuracy': cv_accuracy,\n",
    "        'Best Parameters': best_params,\n",
    "        'Accuracy': accuracy,\n",
    "        'Precision': precision,\n",
    "        'Recall': recall,\n",
    "        'F1 Score': f1\n",
    "    }\n",
    "    topsoil_xgb_results.append(result_dict)\n",
    "\n",
    "topsoil_xgb_results_df = pd.DataFrame(topsoil_xgb_results)\n",
    "topsoil_xgb_results_df.to_csv('topsoil_xgb_results.csv', index=False)"
   ]
  },
  {
   "cell_type": "code",
   "execution_count": null,
   "id": "07c04ee3-9bba-4e46-925b-3af776c72ede",
   "metadata": {},
   "outputs": [],
   "source": [
    "subsoil_xgb_results = []\n",
    "\n",
    "for i in Elements:\n",
    "    cv_accuracy, best_params, accuracy, precision, recall, f1 = xgb_cv_val(i, subsoil_data)\n",
    "    result_dict = {\n",
    "        'Element': i,\n",
    "        'CV accuracy': cv_accuracy,\n",
    "        'Best Parameters': best_params,\n",
    "        'Accuracy': accuracy,\n",
    "        'Precision': precision,\n",
    "        'Recall': recall,\n",
    "        'F1 Score': f1\n",
    "    }\n",
    "    subsoil_xgb_results.append(result_dict)\n",
    "\n",
    "subsoil_xgb_results_df = pd.DataFrame(subsoil_xgb_results)\n",
    "subsoil_xgb_results_df.to_csv('subsoil_xgb_results.csv', index=False)"
   ]
  }
 ],
 "metadata": {
  "kernelspec": {
   "display_name": "python311",
   "language": "python",
   "name": "python311"
  },
  "language_info": {
   "codemirror_mode": {
    "name": "ipython",
    "version": 3
   },
   "file_extension": ".py",
   "mimetype": "text/x-python",
   "name": "python",
   "nbconvert_exporter": "python",
   "pygments_lexer": "ipython3",
   "version": "3.11.0"
  }
 },
 "nbformat": 4,
 "nbformat_minor": 5
}
