{
 "cells": [
  {
   "cell_type": "code",
   "execution_count": 1,
   "id": "d360bf22-c765-4c0a-9a4a-ff0751b8431d",
   "metadata": {},
   "outputs": [],
   "source": [
    "import pandas as pd\n",
    "import numpy as np\n",
    "\n",
    "from sklearn.model_selection import train_test_split, GridSearchCV, cross_val_score, StratifiedKFold\n",
    "from sklearn.tree import DecisionTreeClassifier\n",
    "from sklearn.ensemble import RandomForestClassifier\n",
    "from sklearn.preprocessing import MinMaxScaler\n",
    "from sklearn.metrics import accuracy_score, confusion_matrix, precision_score, recall_score, f1_score\n",
    "\n",
    "import xgboost as xgb"
   ]
  },
  {
   "cell_type": "code",
   "execution_count": 2,
   "id": "c49ada13-7221-4bd3-b318-14d1b6b1dd61",
   "metadata": {},
   "outputs": [],
   "source": [
    "data = pd.read_csv('K:/Google Drive/DOUTORADO/Tese 2.0/Chapter I/KELLOGs/dataset.csv')\n",
    "\n",
    "Elements = ['As', 'Ba', 'Cd', 'Co', 'Cr', 'Cu', 'Pb', 'Zn', 'Mo']\n",
    "\n",
    "filter = pd.read_csv('filter.csv')\n",
    "\n",
    "#for col in Elements:\n",
    "#    data = data.sort_values(by=col,ascending=False)\n",
    "#    data = data[5:]"
   ]
  },
  {
   "cell_type": "code",
   "execution_count": 3,
   "id": "ce29fc10-44e3-4c38-87bc-92de6f26cfca",
   "metadata": {},
   "outputs": [
    {
     "name": "stdout",
     "output_type": "stream",
     "text": [
      "(1337, 1711)\n",
      "(1162, 1711)\n"
     ]
    }
   ],
   "source": [
    "print(data.shape)\n",
    "data = data[data['id.layer_uuid_c'].isin(filter['id.layer_uuid_c'])]\n",
    "print(data.shape)"
   ]
  },
  {
   "cell_type": "code",
   "execution_count": 4,
   "id": "c75b16fb-ede1-4138-8e10-8e453ce6e944",
   "metadata": {},
   "outputs": [],
   "source": [
    "def rf_cv_val(i, data):\n",
    "\n",
    "    SEED = 255\n",
    "    np.random.seed(SEED)\n",
    "\n",
    "    Class = pd.DataFrame()\n",
    "    Class['Class'] = pd.cut(data[i],\n",
    "                               bins = [data[i].min(), data[i].quantile(0.75), data[i].max()],\n",
    "                               labels = [0, 1],\n",
    "                               right = False)\n",
    "\n",
    "    Class = pd.concat([Class, data.iloc[:,10:]], axis=1)\n",
    "    x = Class.dropna().drop(columns=['Class'])\n",
    "    y = Class['Class'].dropna()\n",
    "\n",
    "    x_train, x_test, y_train, y_test = train_test_split(x, y,\n",
    "                                                            test_size=0.2,\n",
    "                                                            shuffle=True,\n",
    "                                                            stratify=y)\n",
    "    rf_classifier = RandomForestClassifier()\n",
    "    \n",
    "    param_grid = {\n",
    "        'n_estimators': [100, 300],\n",
    "        'max_depth': [None, 20],\n",
    "        'min_samples_split': [5, 10],\n",
    "        'min_samples_leaf': [2, 4]\n",
    "    }\n",
    "\n",
    "    cv = StratifiedKFold(n_splits=10, shuffle=True, random_state=SEED)\n",
    "    grid_search = GridSearchCV(estimator=rf_classifier, param_grid=param_grid, cv=cv)\n",
    "\n",
    "    grid_search.fit(x_train, y_train)\n",
    "    best_params = grid_search.best_params_\n",
    "    best_rf_classifier = RandomForestClassifier(**best_params)\n",
    "    cross_val_scores = cross_val_score(best_rf_classifier, x_train, y_train, cv=cv)\n",
    "    mean_cv_accuracy = np.mean(cross_val_scores)\n",
    "    \n",
    "    best_rf_classifier.fit(x_train, y_train)\n",
    "    y_pred = best_rf_classifier.predict(x_test)\n",
    "    \n",
    "    accuracy = accuracy_score(y_test, y_pred)\n",
    "    precision = precision_score(y_test, y_pred)\n",
    "    recall = recall_score(y_test, y_pred)\n",
    "    f1 = f1_score(y_test, y_pred)\n",
    "    \n",
    "    print(f\"A acurácia para {i} usando RandomForest foi de %.2f%%\" % (accuracy*100))\n",
    "\n",
    "    return mean_cv_accuracy, best_params, accuracy, precision, recall, f1"
   ]
  },
  {
   "cell_type": "code",
   "execution_count": 5,
   "id": "f2bf340a-eea7-4d9c-b2cd-db2e05256299",
   "metadata": {},
   "outputs": [
    {
     "name": "stdout",
     "output_type": "stream",
     "text": [
      "A acurácia para As usando RandomForest foi de 89.27%\n",
      "A acurácia para Ba usando RandomForest foi de 85.84%\n",
      "A acurácia para Cd usando RandomForest foi de 90.13%\n",
      "A acurácia para Co usando RandomForest foi de 83.69%\n",
      "A acurácia para Cr usando RandomForest foi de 86.27%\n",
      "A acurácia para Cu usando RandomForest foi de 86.27%\n",
      "A acurácia para Pb usando RandomForest foi de 87.55%\n",
      "A acurácia para Zn usando RandomForest foi de 81.12%\n",
      "A acurácia para Mo usando RandomForest foi de 89.70%\n"
     ]
    }
   ],
   "source": [
    "rf_results = []\n",
    "\n",
    "for i in Elements:\n",
    "    cv_accuracy, best_params, accuracy, precision, recall, f1 = rf_cv_val(i, data)\n",
    "    result_dict = {\n",
    "        'Element': i,\n",
    "        'CV accuracy': cv_accuracy,\n",
    "        'Best Parameters': best_params,\n",
    "        'Accuracy': accuracy,\n",
    "        'Precision': precision,\n",
    "        'Recall': recall,\n",
    "        'F1 Score': f1\n",
    "    }\n",
    "    rf_results.append(result_dict)\n",
    "\n",
    "rf_results_df = pd.DataFrame(rf_results)\n",
    "rf_results_df.to_csv('rf_results.csv', index=False)"
   ]
  },
  {
   "cell_type": "code",
   "execution_count": 6,
   "id": "ab99de22-5a67-4d93-8ed4-2259dfe6fc73",
   "metadata": {},
   "outputs": [
    {
     "name": "stdout",
     "output_type": "stream",
     "text": [
      "(428, 1711) (513, 1711)\n"
     ]
    }
   ],
   "source": [
    "subsoil = pd.read_csv('subsoil.csv', header=None)\n",
    "topsoil = pd.read_csv('topsoil.csv', header=None)\n",
    "\n",
    "topsoil_data = data.loc[data['id.layer_uuid_c'].isin(topsoil[0])]\n",
    "subsoil_data = data.loc[data['id.layer_uuid_c'].isin(subsoil[0])]\n",
    "print(topsoil_data.shape, subsoil_data.shape)"
   ]
  },
  {
   "cell_type": "code",
   "execution_count": null,
   "id": "5ecc1aaa-4619-48e5-a048-2e8bc4b0f489",
   "metadata": {},
   "outputs": [
    {
     "name": "stdout",
     "output_type": "stream",
     "text": [
      "A acurácia para As usando RandomForest foi de 87.21%\n",
      "A acurácia para Ba usando RandomForest foi de 84.88%\n",
      "A acurácia para Cd usando RandomForest foi de 88.37%\n",
      "A acurácia para Co usando RandomForest foi de 87.21%\n"
     ]
    }
   ],
   "source": [
    "topsoil_rf_results = []\n",
    "\n",
    "for i in Elements:\n",
    "    cv_accuracy, best_params, accuracy, precision, recall, f1 = rf_cv_val(i, topsoil_data)\n",
    "    result_dict = {\n",
    "        'Element': i,\n",
    "        'CV accuracy': cv_accuracy,\n",
    "        'Best Parameters': best_params,\n",
    "        'Accuracy': accuracy,\n",
    "        'Precision': precision,\n",
    "        'Recall': recall,\n",
    "        'F1 Score': f1\n",
    "    }\n",
    "    topsoil_rf_results.append(result_dict)\n",
    "\n",
    "topsoil_rf_results_df = pd.DataFrame(topsoil_rf_results)\n",
    "topsoil_rf_results_df.to_csv('topsoil_rf_results.csv', index=False)"
   ]
  },
  {
   "cell_type": "code",
   "execution_count": null,
   "id": "58058fcd-ed3f-4804-af8e-e2d96535668e",
   "metadata": {},
   "outputs": [],
   "source": [
    "subsoil_rf_results = []\n",
    "\n",
    "for i in Elements:\n",
    "    cv_accuracy, best_params, accuracy, precision, recall, f1 = rf_cv_val(i, subsoil_data)\n",
    "    result_dict = {\n",
    "        'Element': i,\n",
    "        'CV accuracy': cv_accuracy,\n",
    "        'Best Parameters': best_params,\n",
    "        'Accuracy': accuracy,\n",
    "        'Precision': precision,\n",
    "        'Recall': recall,\n",
    "        'F1 Score': f1\n",
    "    }\n",
    "    subsoil_rf_results.append(result_dict)\n",
    "\n",
    "subsoil_rf_results_df = pd.DataFrame(subsoil_rf_results)\n",
    "subsoil_rf_results_df.to_csv('subsoil_rf_results.csv', index=False)"
   ]
  }
 ],
 "metadata": {
  "kernelspec": {
   "display_name": "python311",
   "language": "python",
   "name": "python311"
  },
  "language_info": {
   "codemirror_mode": {
    "name": "ipython",
    "version": 3
   },
   "file_extension": ".py",
   "mimetype": "text/x-python",
   "name": "python",
   "nbconvert_exporter": "python",
   "pygments_lexer": "ipython3",
   "version": "3.11.0"
  }
 },
 "nbformat": 4,
 "nbformat_minor": 5
}
